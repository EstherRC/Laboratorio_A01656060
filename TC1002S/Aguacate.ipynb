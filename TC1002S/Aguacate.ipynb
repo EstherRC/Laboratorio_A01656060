{
 "cells": [
  {
   "cell_type": "code",
   "execution_count": 23,
   "metadata": {},
   "outputs": [
    {
     "name": "stdout",
     "output_type": "stream",
     "text": [
      "     Month               region   Total Bags\n",
      "0        1               Albany    282211.55\n",
      "1        1              Atlanta   3096897.34\n",
      "2        1  BaltimoreWashington   3824272.32\n",
      "3        1                Boise    620006.35\n",
      "4        1               Boston   2282124.32\n",
      "..     ...                  ...          ...\n",
      "631     12              StLouis    994597.44\n",
      "632     12             Syracuse    245403.82\n",
      "633     12                Tampa   1626524.21\n",
      "634     12                 West  29183066.64\n",
      "635     12     WestTexNewMexico   2906549.70\n",
      "\n",
      "[636 rows x 3 columns]\n",
      "     Month region   Total Bags\n",
      "51       1   West  45323183.90\n",
      "104      2   West  42044947.17\n",
      "157      3   West  38807581.26\n",
      "210      4   West  30019328.04\n",
      "263      5   West  31936930.65\n",
      "316      6   West  27386560.72\n",
      "369      7   West  30546141.86\n",
      "422      8   West  22856041.91\n",
      "475      9   West  20388673.66\n",
      "528     10   West  25499508.77\n",
      "581     11   West  23081666.73\n",
      "634     12   West  29183066.64\n"
     ]
    }
   ],
   "source": [
    "import pandas as pd\n",
    "\n",
    "df2=pd.read_csv(\"avocado.csv\")\n",
    "df2\n",
    "\n",
    "df2 = df2[df2['region'] != 'TotalUS']\n",
    "\n",
    "df2['Date'] = pd.to_datetime(df2['Date'])\n",
    "\n",
    "df2['Month'] = df2['Date'].dt.month\n",
    "\n",
    "result = df2.groupby(['Month', 'region'])['Total Bags'].sum().reset_index()\n",
    "print(result)\n",
    "maxbm= result.loc[result.groupby('Month')['Total Bags'].idxmax()]\n",
    "\n",
    "print(maxbm)\n"
   ]
  }
 ],
 "metadata": {
  "kernelspec": {
   "display_name": "Python 3",
   "language": "python",
   "name": "python3"
  },
  "language_info": {
   "codemirror_mode": {
    "name": "ipython",
    "version": 3
   },
   "file_extension": ".py",
   "mimetype": "text/x-python",
   "name": "python",
   "nbconvert_exporter": "python",
   "pygments_lexer": "ipython3",
   "version": "3.11.5"
  },
  "orig_nbformat": 4
 },
 "nbformat": 4,
 "nbformat_minor": 2
}
