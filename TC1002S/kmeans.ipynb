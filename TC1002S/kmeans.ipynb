{
 "cells": [
  {
   "cell_type": "markdown",
   "metadata": {},
   "source": [
    "## Patrones K-means"
   ]
  },
  {
   "cell_type": "code",
   "execution_count": 6,
   "metadata": {},
   "outputs": [
    {
     "name": "stdout",
     "output_type": "stream",
     "text": [
      "Nuevos centros: [[2.0, 3.0], [9.0, 10.0]]\n"
     ]
    }
   ],
   "source": [
    "import math\n",
    "\n",
    "def distancia(l1, l2):\n",
    "    if len(l1) == len(l2):\n",
    "        return math.dist(l1, l2)\n",
    "    else:\n",
    "        print(\"Ingrese dos listas del mismo tamaño\")\n",
    "        return None  \n",
    "\n",
    "def cercanos(puntos, centros):\n",
    "    if all(isinstance(i, list) for i in puntos) and all(isinstance(i, list) for i in centros):\n",
    "        k = len(centros)\n",
    "        listas_cercanas = [[] for _ in range(k)]\n",
    "\n",
    "        for punto in puntos:\n",
    "            distancia_minima = float('inf') \n",
    "            indice_centro_cercano = None\n",
    "\n",
    "            for i, centro in enumerate(centros):\n",
    "                d = distancia(punto, centro)\n",
    "                if d < distancia_minima:\n",
    "                    distancia_minima = d\n",
    "                    indice_centro_cercano = i\n",
    "\n",
    "            listas_cercanas[indice_centro_cercano].append(punto)\n",
    "\n",
    "        return listas_cercanas\n",
    "    else:\n",
    "        print(\"Ambos argumentos deben ser listas de listas\")\n",
    "        return None \n",
    "\n",
    "import random\n",
    "\n",
    "def promedio(lista_puntos):\n",
    "    n = len(lista_puntos)\n",
    "    if n == 0:\n",
    "        return None\n",
    "    suma = [0] * len(lista_puntos[0])\n",
    "    for punto in lista_puntos:\n",
    "        suma = [suma[i] + punto[i] for i in range(len(punto))]\n",
    "    return [x / n for x in suma]\n",
    "\n",
    "def centros(listas):\n",
    "    nuevos_centros = [promedio(lista) for lista in listas if lista]\n",
    "    return nuevos_centros\n",
    "\n",
    "def k_means(puntos, k, iteraciones=100):\n",
    "    if k <= 0 or k > len(puntos):\n",
    "        print(\"El valor de k no es válido.\")\n",
    "        return None\n",
    "\n",
    "    centros_iniciales = random.sample(puntos, k)\n",
    "\n",
    "    for _ in range(iteraciones):\n",
    "        grupos = cercanos(puntos, centros_iniciales)\n",
    "        nuevos_centros = centros(grupos)\n",
    "\n",
    "        if nuevos_centros is None:\n",
    "            print(\"Uno o más grupos están vacíos. Prueba con un valor de k diferente.\")\n",
    "            return None\n",
    "\n",
    "        centros_iniciales = nuevos_centros\n",
    "\n",
    "    return centros_iniciales\n",
    "\n",
    "puntos = [[1, 2], [2, 3], [3, 4], [8, 9], [9, 10], [10, 11]]\n",
    "k = 2\n",
    "centros = k_means(puntos, k)\n",
    "print(\"Nuevos centros:\", centros)\n",
    "\n"
   ]
  },
  {
   "cell_type": "code",
   "execution_count": 7,
   "metadata": {},
   "outputs": [
    {
     "name": "stdout",
     "output_type": "stream",
     "text": [
      "Centros obtenidos con scikit-learn: [[ 9. 10.]\n",
      " [ 2.  3.]]\n"
     ]
    },
    {
     "name": "stderr",
     "output_type": "stream",
     "text": [
      "/opt/homebrew/lib/python3.11/site-packages/sklearn/cluster/_kmeans.py:1412: FutureWarning: The default value of `n_init` will change from 10 to 'auto' in 1.4. Set the value of `n_init` explicitly to suppress the warning\n",
      "  super()._check_params_vs_input(X, default_n_init=10)\n"
     ]
    }
   ],
   "source": [
    "from sklearn.cluster import KMeans\n",
    "\n",
    "puntos = [[1, 2], [2, 3], [3, 4], [8, 9], [9, 10], [10, 11]]\n",
    "\n",
    "k = 2\n",
    "\n",
    "modelo_kmeans = KMeans(n_clusters=k, random_state=0)\n",
    "\n",
    "modelo_kmeans.fit(puntos)\n",
    "\n",
    "centros_sklearn = modelo_kmeans.cluster_centers_\n",
    "\n",
    "print(\"Centros obtenidos con scikit-learn:\", centros_sklearn)"
   ]
  }
 ],
 "metadata": {
  "kernelspec": {
   "display_name": "Python 3",
   "language": "python",
   "name": "python3"
  },
  "language_info": {
   "codemirror_mode": {
    "name": "ipython",
    "version": 3
   },
   "file_extension": ".py",
   "mimetype": "text/x-python",
   "name": "python",
   "nbconvert_exporter": "python",
   "pygments_lexer": "ipython3",
   "version": "3.11.5"
  },
  "orig_nbformat": 4
 },
 "nbformat": 4,
 "nbformat_minor": 2
}
